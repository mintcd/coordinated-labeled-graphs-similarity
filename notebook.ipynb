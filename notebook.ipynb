{
  "nbformat": 4,
  "nbformat_minor": 0,
  "metadata": {
    "colab": {
      "provenance": []
    },
    "kernelspec": {
      "name": "python3",
      "display_name": "Python 3"
    },
    "language_info": {
      "name": "python"
    }
  },
  "cells": [
    {
      "cell_type": "code",
      "execution_count": null,
      "metadata": {
        "id": "79s_8gcvLKRX"
      },
      "outputs": [],
      "source": [
        "!git clone https://github.com/mintcd/graphtheory.git\n",
        "%cd graphtheory\n",
        "!pip install -r \"requirements.txt\"\n",
        "%cd src"
      ]
    },
    {
      "cell_type": "code",
      "source": [
        "!pip install pyquaternion"
      ],
      "metadata": {
        "id": "AYaSr2ZhBbnX"
      },
      "execution_count": null,
      "outputs": []
    },
    {
      "cell_type": "code",
      "source": [
        "from check import test"
      ],
      "metadata": {
        "id": "gy9kQL_SJEKm"
      },
      "execution_count": null,
      "outputs": []
    },
    {
      "cell_type": "code",
      "source": [
        "\"\"\"\n",
        "r : number of graphs (number of vertices are r+10 in case of random graphs and r(dim+1)+10 in case of equidistant graphs\n",
        "typ: 'similar' | 'posistion-modified' | 'color-modified' | 'edge-removed'\n",
        "\"\"\"\n",
        "test(r=30, dim=3, equidistant=True, typ='similar')"
      ],
      "metadata": {
        "id": "fnGmN11JJHK7"
      },
      "execution_count": null,
      "outputs": []
    }
  ]
}